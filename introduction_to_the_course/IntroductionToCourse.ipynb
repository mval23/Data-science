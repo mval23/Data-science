{
 "cells": [
  {
   "cell_type": "markdown",
   "metadata": {},
   "source": [
    "# The Python Programming Language: Functions"
   ]
  },
  {
   "cell_type": "code",
   "execution_count": 138,
   "metadata": {
    "ExecuteTime": {
     "end_time": "2023-08-25T02:01:49.713371900Z",
     "start_time": "2023-08-25T02:01:49.105640300Z"
    }
   },
   "outputs": [
    {
     "data": {
      "text/plain": "3"
     },
     "execution_count": 138,
     "metadata": {},
     "output_type": "execute_result"
    }
   ],
   "source": [
    "x = 1\n",
    "y = 2\n",
    "x + y"
   ]
  },
  {
   "cell_type": "code",
   "execution_count": 139,
   "metadata": {
    "ExecuteTime": {
     "end_time": "2023-08-25T02:01:50.235570400Z",
     "start_time": "2023-08-25T02:01:49.122925600Z"
    }
   },
   "outputs": [
    {
     "data": {
      "text/plain": "2"
     },
     "execution_count": 139,
     "metadata": {},
     "output_type": "execute_result"
    }
   ],
   "source": [
    "y"
   ]
  },
  {
   "cell_type": "markdown",
   "metadata": {},
   "source": [
    "`add_numbers` is a function that takes two numbers and adds them together."
   ]
  },
  {
   "cell_type": "code",
   "execution_count": 140,
   "metadata": {
    "ExecuteTime": {
     "end_time": "2023-08-25T02:01:50.252858700Z",
     "start_time": "2023-08-25T02:01:49.140644300Z"
    }
   },
   "outputs": [
    {
     "data": {
      "text/plain": "3"
     },
     "execution_count": 140,
     "metadata": {},
     "output_type": "execute_result"
    }
   ],
   "source": [
    "def add_numbers(x, y):\n",
    "    return x + y\n",
    "\n",
    "\n",
    "add_numbers(1, 2)"
   ]
  },
  {
   "cell_type": "markdown",
   "metadata": {},
   "source": [
    "`add_numbers` updated to take an optional 3rd parameter. Using `print` allows printing of multiple expressions within a single cell."
   ]
  },
  {
   "cell_type": "code",
   "execution_count": 141,
   "metadata": {
    "ExecuteTime": {
     "end_time": "2023-08-25T02:01:50.263443700Z",
     "start_time": "2023-08-25T02:01:49.155660900Z"
    }
   },
   "outputs": [
    {
     "name": "stdout",
     "output_type": "stream",
     "text": [
      "3\n",
      "6\n"
     ]
    }
   ],
   "source": [
    "def add_numbers(x, y, z=None):\n",
    "    if (z == None):\n",
    "        return x + y\n",
    "    else:\n",
    "        return x + y + z\n",
    "\n",
    "\n",
    "print(add_numbers(1, 2))\n",
    "print(add_numbers(1, 2, 3))"
   ]
  },
  {
   "cell_type": "markdown",
   "metadata": {},
   "source": [
    "`add_numbers` updated to take an optional flag parameter."
   ]
  },
  {
   "cell_type": "code",
   "execution_count": 142,
   "metadata": {
    "ExecuteTime": {
     "end_time": "2023-08-25T02:01:50.304033500Z",
     "start_time": "2023-08-25T02:01:49.170383700Z"
    }
   },
   "outputs": [
    {
     "name": "stdout",
     "output_type": "stream",
     "text": [
      "Flag is true!\n",
      "3\n"
     ]
    }
   ],
   "source": [
    "def add_numbers(x, y, z=None, flag=False):\n",
    "    if (flag):\n",
    "        print('Flag is true!')\n",
    "    if (z == None):\n",
    "        return x + y\n",
    "    else:\n",
    "        return x + y + z\n",
    "\n",
    "\n",
    "print(add_numbers(1, 2, flag=True))"
   ]
  },
  {
   "cell_type": "markdown",
   "metadata": {},
   "source": [
    "Assign function `add_numbers` to variable `a`."
   ]
  },
  {
   "cell_type": "code",
   "execution_count": 143,
   "metadata": {
    "ExecuteTime": {
     "end_time": "2023-08-25T02:01:50.315741200Z",
     "start_time": "2023-08-25T02:01:49.186531500Z"
    }
   },
   "outputs": [
    {
     "data": {
      "text/plain": "3"
     },
     "execution_count": 143,
     "metadata": {},
     "output_type": "execute_result"
    }
   ],
   "source": [
    "def add_numbers(x, y):\n",
    "    return x + y\n",
    "\n",
    "\n",
    "a = add_numbers\n",
    "a(1, 2)"
   ]
  },
  {
   "cell_type": "markdown",
   "metadata": {},
   "source": [
    "# The Python Programming Language: Types and Sequences"
   ]
  },
  {
   "cell_type": "markdown",
   "metadata": {},
   "source": [
    "Use `type` to return the object's type."
   ]
  },
  {
   "cell_type": "code",
   "execution_count": 144,
   "metadata": {
    "ExecuteTime": {
     "end_time": "2023-08-25T02:01:50.334186600Z",
     "start_time": "2023-08-25T02:01:49.200836100Z"
    }
   },
   "outputs": [
    {
     "data": {
      "text/plain": "str"
     },
     "execution_count": 144,
     "metadata": {},
     "output_type": "execute_result"
    }
   ],
   "source": [
    "type('This is a string')"
   ]
  },
  {
   "cell_type": "code",
   "execution_count": 145,
   "metadata": {
    "ExecuteTime": {
     "end_time": "2023-08-25T02:01:50.334186600Z",
     "start_time": "2023-08-25T02:01:49.217875700Z"
    }
   },
   "outputs": [
    {
     "data": {
      "text/plain": "NoneType"
     },
     "execution_count": 145,
     "metadata": {},
     "output_type": "execute_result"
    }
   ],
   "source": [
    "type(None)"
   ]
  },
  {
   "cell_type": "code",
   "execution_count": 146,
   "metadata": {
    "ExecuteTime": {
     "end_time": "2023-08-25T02:01:50.350440400Z",
     "start_time": "2023-08-25T02:01:49.231931400Z"
    }
   },
   "outputs": [
    {
     "data": {
      "text/plain": "int"
     },
     "execution_count": 146,
     "metadata": {},
     "output_type": "execute_result"
    }
   ],
   "source": [
    "type(1)"
   ]
  },
  {
   "cell_type": "code",
   "execution_count": 147,
   "metadata": {
    "ExecuteTime": {
     "end_time": "2023-08-25T02:01:50.368910900Z",
     "start_time": "2023-08-25T02:01:49.248960Z"
    }
   },
   "outputs": [
    {
     "data": {
      "text/plain": "float"
     },
     "execution_count": 147,
     "metadata": {},
     "output_type": "execute_result"
    }
   ],
   "source": [
    "type(1.0)"
   ]
  },
  {
   "cell_type": "code",
   "execution_count": 148,
   "metadata": {
    "ExecuteTime": {
     "end_time": "2023-08-25T02:01:50.385628500Z",
     "start_time": "2023-08-25T02:01:49.264518900Z"
    }
   },
   "outputs": [
    {
     "data": {
      "text/plain": "function"
     },
     "execution_count": 148,
     "metadata": {},
     "output_type": "execute_result"
    }
   ],
   "source": [
    "type(add_numbers)"
   ]
  },
  {
   "cell_type": "markdown",
   "metadata": {},
   "source": [
    "Tuples are an immutable data structure (cannot be altered)."
   ]
  },
  {
   "cell_type": "code",
   "execution_count": 149,
   "metadata": {
    "ExecuteTime": {
     "end_time": "2023-08-25T02:01:50.401882100Z",
     "start_time": "2023-08-25T02:01:49.279546400Z"
    }
   },
   "outputs": [
    {
     "data": {
      "text/plain": "tuple"
     },
     "execution_count": 149,
     "metadata": {},
     "output_type": "execute_result"
    }
   ],
   "source": [
    "x = (1, 'a', 2, 'b')\n",
    "type(x)"
   ]
  },
  {
   "cell_type": "markdown",
   "metadata": {},
   "source": [
    "Lists are a mutable data structure."
   ]
  },
  {
   "cell_type": "code",
   "execution_count": 150,
   "metadata": {
    "ExecuteTime": {
     "end_time": "2023-08-25T02:01:50.433099Z",
     "start_time": "2023-08-25T02:01:49.295616500Z"
    }
   },
   "outputs": [
    {
     "data": {
      "text/plain": "list"
     },
     "execution_count": 150,
     "metadata": {},
     "output_type": "execute_result"
    }
   ],
   "source": [
    "x = [1, 'a', 2, 'b']\n",
    "type(x)"
   ]
  },
  {
   "cell_type": "markdown",
   "metadata": {},
   "source": [
    "Use `append` to append an object to a list."
   ]
  },
  {
   "cell_type": "code",
   "execution_count": 151,
   "metadata": {
    "ExecuteTime": {
     "end_time": "2023-08-25T02:01:50.467558400Z",
     "start_time": "2023-08-25T02:01:49.310905500Z"
    }
   },
   "outputs": [
    {
     "name": "stdout",
     "output_type": "stream",
     "text": [
      "[1, 'a', 2, 'b', 3.3]\n"
     ]
    }
   ],
   "source": [
    "x.append(3.3)\n",
    "print(x)"
   ]
  },
  {
   "cell_type": "markdown",
   "metadata": {},
   "source": [
    "This is an example of how to loop through each item in the list."
   ]
  },
  {
   "cell_type": "code",
   "execution_count": 152,
   "metadata": {
    "ExecuteTime": {
     "end_time": "2023-08-25T02:01:50.489479400Z",
     "start_time": "2023-08-25T02:01:49.325744600Z"
    }
   },
   "outputs": [
    {
     "name": "stdout",
     "output_type": "stream",
     "text": [
      "1\n",
      "a\n",
      "2\n",
      "b\n",
      "3.3\n"
     ]
    }
   ],
   "source": [
    "for item in x:\n",
    "    print(item)"
   ]
  },
  {
   "cell_type": "markdown",
   "metadata": {},
   "source": [
    "Or using the indexing operator:"
   ]
  },
  {
   "cell_type": "code",
   "execution_count": 153,
   "metadata": {
    "ExecuteTime": {
     "end_time": "2023-08-25T02:01:50.501176300Z",
     "start_time": "2023-08-25T02:01:49.342296800Z"
    }
   },
   "outputs": [
    {
     "name": "stdout",
     "output_type": "stream",
     "text": [
      "1\n",
      "a\n",
      "2\n",
      "b\n",
      "3.3\n"
     ]
    }
   ],
   "source": [
    "i = 0\n",
    "while (i != len(x)):\n",
    "    print(x[i])\n",
    "    i = i + 1"
   ]
  },
  {
   "cell_type": "markdown",
   "metadata": {},
   "source": [
    "Use `+` to concatenate lists."
   ]
  },
  {
   "cell_type": "code",
   "execution_count": 154,
   "metadata": {
    "ExecuteTime": {
     "end_time": "2023-08-25T02:01:50.529643500Z",
     "start_time": "2023-08-25T02:01:49.356442600Z"
    }
   },
   "outputs": [
    {
     "data": {
      "text/plain": "[1, 2, 3, 4]"
     },
     "execution_count": 154,
     "metadata": {},
     "output_type": "execute_result"
    }
   ],
   "source": [
    "[1, 2] + [3, 4]"
   ]
  },
  {
   "cell_type": "markdown",
   "metadata": {},
   "source": [
    "Use `*` to repeat lists."
   ]
  },
  {
   "cell_type": "code",
   "execution_count": 155,
   "metadata": {
    "ExecuteTime": {
     "end_time": "2023-08-25T02:01:50.556297Z",
     "start_time": "2023-08-25T02:01:49.373280200Z"
    }
   },
   "outputs": [
    {
     "data": {
      "text/plain": "[1, 1, 1]"
     },
     "execution_count": 155,
     "metadata": {},
     "output_type": "execute_result"
    }
   ],
   "source": [
    "[1] * 3"
   ]
  },
  {
   "cell_type": "markdown",
   "metadata": {},
   "source": [
    "Use the `in` operator to check if something is inside a list."
   ]
  },
  {
   "cell_type": "code",
   "execution_count": 156,
   "metadata": {
    "ExecuteTime": {
     "end_time": "2023-08-25T02:01:50.566959400Z",
     "start_time": "2023-08-25T02:01:49.388243300Z"
    }
   },
   "outputs": [
    {
     "data": {
      "text/plain": "True"
     },
     "execution_count": 156,
     "metadata": {},
     "output_type": "execute_result"
    }
   ],
   "source": [
    "1 in [1, 2, 3]"
   ]
  },
  {
   "cell_type": "markdown",
   "metadata": {},
   "source": [
    "Now let's look at strings. Use bracket notation to slice a string."
   ]
  },
  {
   "cell_type": "code",
   "execution_count": 157,
   "metadata": {
    "ExecuteTime": {
     "end_time": "2023-08-25T02:01:50.583602400Z",
     "start_time": "2023-08-25T02:01:49.404799600Z"
    }
   },
   "outputs": [
    {
     "name": "stdout",
     "output_type": "stream",
     "text": [
      "T\n",
      "T\n",
      "Th\n"
     ]
    }
   ],
   "source": [
    "x = 'This is a string'\n",
    "print(x[0])  #first character\n",
    "print(x[0:1])  #first character, but we have explicitly set the end character\n",
    "print(x[0:2])  #first two characters\n"
   ]
  },
  {
   "cell_type": "markdown",
   "metadata": {},
   "source": [
    "This will return the last element of the string."
   ]
  },
  {
   "cell_type": "code",
   "execution_count": 158,
   "metadata": {
    "ExecuteTime": {
     "end_time": "2023-08-25T02:01:50.593798400Z",
     "start_time": "2023-08-25T02:01:49.419081700Z"
    }
   },
   "outputs": [
    {
     "data": {
      "text/plain": "'g'"
     },
     "execution_count": 158,
     "metadata": {},
     "output_type": "execute_result"
    }
   ],
   "source": [
    "x[-1]"
   ]
  },
  {
   "cell_type": "markdown",
   "metadata": {},
   "source": [
    "This will return the slice starting from the 4th element from the end and stopping before the 2nd element from the end."
   ]
  },
  {
   "cell_type": "code",
   "execution_count": 159,
   "metadata": {
    "ExecuteTime": {
     "end_time": "2023-08-25T02:01:50.609814100Z",
     "start_time": "2023-08-25T02:01:49.434277400Z"
    }
   },
   "outputs": [
    {
     "data": {
      "text/plain": "'ri'"
     },
     "execution_count": 159,
     "metadata": {},
     "output_type": "execute_result"
    }
   ],
   "source": [
    "x[-4:-2]"
   ]
  },
  {
   "cell_type": "markdown",
   "metadata": {},
   "source": [
    "This is a slice from the beginning of the string and stopping before the 3rd element."
   ]
  },
  {
   "cell_type": "code",
   "execution_count": 160,
   "metadata": {
    "ExecuteTime": {
     "end_time": "2023-08-25T02:01:50.615531200Z",
     "start_time": "2023-08-25T02:01:49.449461800Z"
    }
   },
   "outputs": [
    {
     "data": {
      "text/plain": "'Thi'"
     },
     "execution_count": 160,
     "metadata": {},
     "output_type": "execute_result"
    }
   ],
   "source": [
    "x[:3]"
   ]
  },
  {
   "cell_type": "markdown",
   "metadata": {},
   "source": [
    "And this is a slice starting from the 4th element of the string and going all the way to the end."
   ]
  },
  {
   "cell_type": "code",
   "execution_count": 161,
   "metadata": {
    "ExecuteTime": {
     "end_time": "2023-08-25T02:01:50.630831600Z",
     "start_time": "2023-08-25T02:01:49.465594Z"
    }
   },
   "outputs": [
    {
     "data": {
      "text/plain": "'s is a string'"
     },
     "execution_count": 161,
     "metadata": {},
     "output_type": "execute_result"
    }
   ],
   "source": [
    "x[3:]"
   ]
  },
  {
   "cell_type": "code",
   "execution_count": 162,
   "metadata": {
    "ExecuteTime": {
     "end_time": "2023-08-25T02:01:50.650195600Z",
     "start_time": "2023-08-25T02:01:49.481840400Z"
    }
   },
   "outputs": [
    {
     "name": "stdout",
     "output_type": "stream",
     "text": [
      "Christopher Brooks\n",
      "ChristopherChristopherChristopher\n",
      "True\n"
     ]
    }
   ],
   "source": [
    "firstname = 'Christopher'\n",
    "lastname = 'Brooks'\n",
    "\n",
    "print(firstname + ' ' + lastname)\n",
    "print(firstname * 3)\n",
    "print('Chris' in firstname)"
   ]
  },
  {
   "cell_type": "markdown",
   "metadata": {},
   "source": [
    "`split` returns a list of all the words in a string, or a list split on a specific character."
   ]
  },
  {
   "cell_type": "code",
   "execution_count": 163,
   "metadata": {
    "ExecuteTime": {
     "end_time": "2023-08-25T02:01:50.654196300Z",
     "start_time": "2023-08-25T02:01:49.499063900Z"
    }
   },
   "outputs": [
    {
     "name": "stdout",
     "output_type": "stream",
     "text": [
      "Christopher\n",
      "Brooks\n"
     ]
    }
   ],
   "source": [
    "firstname = 'Christopher Arthur Hansen Brooks'.split(' ')[0]  # [0] selects the first element of the list\n",
    "lastname = 'Christopher Arthur Hansen Brooks'.split(' ')[-1]  # [-1] selects the last element of the list\n",
    "print(firstname)\n",
    "print(lastname)"
   ]
  },
  {
   "cell_type": "markdown",
   "metadata": {},
   "source": [
    "Make sure you convert objects to strings before concatenating."
   ]
  },
  {
   "cell_type": "code",
   "execution_count": 164,
   "metadata": {
    "ExecuteTime": {
     "end_time": "2023-08-25T02:01:50.670575900Z",
     "start_time": "2023-08-25T02:01:49.513659300Z"
    }
   },
   "outputs": [],
   "source": [
    "#'Chris' + 2"
   ]
  },
  {
   "cell_type": "code",
   "execution_count": 165,
   "metadata": {
    "ExecuteTime": {
     "end_time": "2023-08-25T02:01:50.676132900Z",
     "start_time": "2023-08-25T02:01:49.529594600Z"
    }
   },
   "outputs": [
    {
     "data": {
      "text/plain": "'Chris2'"
     },
     "execution_count": 165,
     "metadata": {},
     "output_type": "execute_result"
    }
   ],
   "source": [
    "'Chris' + str(2)"
   ]
  },
  {
   "cell_type": "markdown",
   "metadata": {},
   "source": [
    "Dictionaries associate keys with values."
   ]
  },
  {
   "cell_type": "code",
   "execution_count": 166,
   "metadata": {
    "ExecuteTime": {
     "end_time": "2023-08-25T02:01:50.693953500Z",
     "start_time": "2023-08-25T02:01:49.544133600Z"
    }
   },
   "outputs": [
    {
     "data": {
      "text/plain": "'brooksch@umich.edu'"
     },
     "execution_count": 166,
     "metadata": {},
     "output_type": "execute_result"
    }
   ],
   "source": [
    "x = {'Christopher Brooks': 'brooksch@umich.edu', 'Bill Gates': 'billg@microsoft.com'}\n",
    "x['Christopher Brooks']  # Retrieve a value by using the indexing operator\n"
   ]
  },
  {
   "cell_type": "code",
   "execution_count": 167,
   "metadata": {
    "ExecuteTime": {
     "end_time": "2023-08-25T02:01:50.709300800Z",
     "start_time": "2023-08-25T02:01:49.560234800Z"
    }
   },
   "outputs": [],
   "source": [
    "x['Kevyn Collins-Thompson'] = None\n",
    "x['Kevyn Collins-Thompson']"
   ]
  },
  {
   "cell_type": "markdown",
   "metadata": {},
   "source": [
    "Iterate over all of the keys:"
   ]
  },
  {
   "cell_type": "code",
   "execution_count": 168,
   "metadata": {
    "scrolled": true,
    "ExecuteTime": {
     "end_time": "2023-08-25T02:01:50.719066100Z",
     "start_time": "2023-08-25T02:01:49.575495400Z"
    }
   },
   "outputs": [
    {
     "name": "stdout",
     "output_type": "stream",
     "text": [
      "brooksch@umich.edu\n",
      "billg@microsoft.com\n",
      "None\n"
     ]
    }
   ],
   "source": [
    "for name in x:\n",
    "    print(x[name])"
   ]
  },
  {
   "cell_type": "markdown",
   "metadata": {},
   "source": [
    "Iterate over all of the values:"
   ]
  },
  {
   "cell_type": "code",
   "execution_count": 169,
   "metadata": {
    "ExecuteTime": {
     "end_time": "2023-08-25T02:01:50.723664500Z",
     "start_time": "2023-08-25T02:01:49.592574500Z"
    }
   },
   "outputs": [
    {
     "name": "stdout",
     "output_type": "stream",
     "text": [
      "brooksch@umich.edu\n",
      "billg@microsoft.com\n",
      "None\n"
     ]
    }
   ],
   "source": [
    "for email in x.values():\n",
    "    print(email)"
   ]
  },
  {
   "cell_type": "markdown",
   "metadata": {},
   "source": [
    "Iterate over all of the items in the list:"
   ]
  },
  {
   "cell_type": "code",
   "execution_count": 170,
   "metadata": {
    "ExecuteTime": {
     "end_time": "2023-08-25T02:01:50.744181200Z",
     "start_time": "2023-08-25T02:01:49.606287800Z"
    }
   },
   "outputs": [
    {
     "name": "stdout",
     "output_type": "stream",
     "text": [
      "Christopher Brooks\n",
      "brooksch@umich.edu\n",
      "Bill Gates\n",
      "billg@microsoft.com\n",
      "Kevyn Collins-Thompson\n",
      "None\n"
     ]
    }
   ],
   "source": [
    "for name, email in x.items():\n",
    "    print(name)\n",
    "    print(email)"
   ]
  },
  {
   "cell_type": "markdown",
   "metadata": {},
   "source": [
    "You can unpack a sequence into different variables:"
   ]
  },
  {
   "cell_type": "code",
   "execution_count": 171,
   "metadata": {
    "ExecuteTime": {
     "end_time": "2023-08-25T02:01:50.753895400Z",
     "start_time": "2023-08-25T02:01:49.622361700Z"
    }
   },
   "outputs": [],
   "source": [
    "x = ('Christopher', 'Brooks', 'brooksch@umich.edu')\n",
    "fname, lname, email = x"
   ]
  },
  {
   "cell_type": "code",
   "execution_count": 172,
   "metadata": {
    "ExecuteTime": {
     "end_time": "2023-08-25T02:01:50.776701800Z",
     "start_time": "2023-08-25T02:01:49.637614500Z"
    }
   },
   "outputs": [
    {
     "data": {
      "text/plain": "'Christopher'"
     },
     "execution_count": 172,
     "metadata": {},
     "output_type": "execute_result"
    }
   ],
   "source": [
    "fname"
   ]
  },
  {
   "cell_type": "code",
   "execution_count": 173,
   "metadata": {
    "ExecuteTime": {
     "end_time": "2023-08-25T02:01:50.777708Z",
     "start_time": "2023-08-25T02:01:49.657912900Z"
    }
   },
   "outputs": [
    {
     "data": {
      "text/plain": "'Brooks'"
     },
     "execution_count": 173,
     "metadata": {},
     "output_type": "execute_result"
    }
   ],
   "source": [
    "lname"
   ]
  },
  {
   "cell_type": "markdown",
   "metadata": {},
   "source": [
    "Make sure the number of values you are unpacking matches the number of variables being assigned."
   ]
  },
  {
   "cell_type": "code",
   "execution_count": 174,
   "metadata": {
    "ExecuteTime": {
     "end_time": "2023-08-25T02:01:50.778705100Z",
     "start_time": "2023-08-25T02:01:49.668604600Z"
    }
   },
   "outputs": [],
   "source": [
    "x = ('Christopher', 'Brooks', 'brooksch@umich.edu', 'Ann Arbor')\n",
    "#fname, lname, email = x"
   ]
  },
  {
   "cell_type": "markdown",
   "metadata": {},
   "source": [
    "# The Python Programming Language: More on Strings"
   ]
  },
  {
   "cell_type": "code",
   "execution_count": 175,
   "metadata": {
    "ExecuteTime": {
     "end_time": "2023-08-25T02:01:50.778705100Z",
     "start_time": "2023-08-25T02:01:49.683907800Z"
    }
   },
   "outputs": [],
   "source": [
    "#print('Chris' + 2)"
   ]
  },
  {
   "cell_type": "code",
   "execution_count": 176,
   "metadata": {
    "ExecuteTime": {
     "end_time": "2023-08-25T02:01:50.779700700Z",
     "start_time": "2023-08-25T02:01:49.699740800Z"
    }
   },
   "outputs": [
    {
     "name": "stdout",
     "output_type": "stream",
     "text": [
      "Chris2\n"
     ]
    }
   ],
   "source": [
    "print('Chris' + str(2))"
   ]
  },
  {
   "cell_type": "markdown",
   "metadata": {},
   "source": [
    "Python has a built in method for convenient string formatting."
   ]
  },
  {
   "cell_type": "code",
   "execution_count": 177,
   "metadata": {
    "ExecuteTime": {
     "end_time": "2023-08-25T02:01:50.789483800Z",
     "start_time": "2023-08-25T02:01:49.715835200Z"
    }
   },
   "outputs": [
    {
     "name": "stdout",
     "output_type": "stream",
     "text": [
      "Chris bought 4 item(s) at a price of 3.24 each for a total of 12.96\n"
     ]
    }
   ],
   "source": [
    "sales_record = {\n",
    "    'price': 3.24,\n",
    "    'num_items': 4,\n",
    "    'person': 'Chris'}\n",
    "\n",
    "sales_statement = '{} bought {} item(s) at a price of {} each for a total of {}'\n",
    "\n",
    "print(sales_statement.format(sales_record['person'],\n",
    "                             sales_record['num_items'],\n",
    "                             sales_record['price'],\n",
    "                             sales_record['num_items'] * sales_record['price']))\n"
   ]
  },
  {
   "cell_type": "markdown",
   "metadata": {},
   "source": [
    "# Reading and Writing CSV files"
   ]
  },
  {
   "cell_type": "markdown",
   "metadata": {},
   "source": [
    "Let's import our datafile mpg.csv, which contains fuel economy data for 234 cars.\n",
    "\n",
    "* mpg : miles per gallon\n",
    "* class : car classification\n",
    "* cty : city mpg\n",
    "* cyl : # of cylinders\n",
    "* displ : engine displacement in liters\n",
    "* drv : f = front-wheel drive, r = rear wheel drive, 4 = 4wd\n",
    "* fl : fuel (e = ethanol E85, d = diesel, r = regular, p = premium, c = CNG)\n",
    "* hwy : highway mpg\n",
    "* manufacturer : automobile manufacturer\n",
    "* model : model of car\n",
    "* trans : type of transmission\n",
    "* year : model year"
   ]
  },
  {
   "cell_type": "code",
   "execution_count": 203,
   "metadata": {
    "scrolled": true,
    "ExecuteTime": {
     "end_time": "2023-08-25T02:02:00.221626700Z",
     "start_time": "2023-08-25T02:02:00.157052500Z"
    }
   },
   "outputs": [
    {
     "data": {
      "text/plain": "[{'': '1',\n  'manufacturer': 'audi',\n  'model': 'a4',\n  'displ': '1.8',\n  'year': '1999',\n  'cyl': '4',\n  'trans': 'auto(l5)',\n  'drv': 'f',\n  'cty': '18',\n  'hwy': '29',\n  'fl': 'p',\n  'class': 'compact'},\n {'': '2',\n  'manufacturer': 'audi',\n  'model': 'a4',\n  'displ': '1.8',\n  'year': '1999',\n  'cyl': '4',\n  'trans': 'manual(m5)',\n  'drv': 'f',\n  'cty': '21',\n  'hwy': '29',\n  'fl': 'p',\n  'class': 'compact'},\n {'': '3',\n  'manufacturer': 'audi',\n  'model': 'a4',\n  'displ': '2',\n  'year': '2008',\n  'cyl': '4',\n  'trans': 'manual(m6)',\n  'drv': 'f',\n  'cty': '20',\n  'hwy': '31',\n  'fl': 'p',\n  'class': 'compact'}]"
     },
     "execution_count": 203,
     "metadata": {},
     "output_type": "execute_result"
    }
   ],
   "source": [
    "import csv\n",
    "\n",
    "%precision 2\n",
    "\n",
    "with open('datasets/mpg.csv') as csvfile:\n",
    "    mpg = list(csv.DictReader(csvfile))\n",
    "\n",
    "mpg[:3]  # The first three dictionaries in our list."
   ]
  },
  {
   "cell_type": "markdown",
   "metadata": {},
   "source": [
    "`csv.Dictreader` has read in each row of our csv file as a dictionary. `len` shows that our list is comprised of 234 dictionaries."
   ]
  },
  {
   "cell_type": "code",
   "execution_count": 179,
   "metadata": {
    "ExecuteTime": {
     "end_time": "2023-08-25T02:01:50.790466700Z",
     "start_time": "2023-08-25T02:01:49.760739500Z"
    }
   },
   "outputs": [
    {
     "data": {
      "text/plain": "234"
     },
     "execution_count": 179,
     "metadata": {},
     "output_type": "execute_result"
    }
   ],
   "source": [
    "len(mpg)"
   ]
  },
  {
   "cell_type": "markdown",
   "metadata": {},
   "source": [
    "`keys` gives us the column names of our csv."
   ]
  },
  {
   "cell_type": "code",
   "execution_count": 180,
   "metadata": {
    "ExecuteTime": {
     "end_time": "2023-08-25T02:01:50.790466700Z",
     "start_time": "2023-08-25T02:01:49.775621200Z"
    }
   },
   "outputs": [
    {
     "data": {
      "text/plain": "dict_keys(['', 'manufacturer', 'model', 'displ', 'year', 'cyl', 'trans', 'drv', 'cty', 'hwy', 'fl', 'class'])"
     },
     "execution_count": 180,
     "metadata": {},
     "output_type": "execute_result"
    }
   ],
   "source": [
    "mpg[0].keys()"
   ]
  },
  {
   "cell_type": "markdown",
   "metadata": {},
   "source": [
    "This is how to find the average cty fuel economy across all cars. All values in the dictionaries are strings, so we need to convert to float."
   ]
  },
  {
   "cell_type": "code",
   "execution_count": 181,
   "metadata": {
    "ExecuteTime": {
     "end_time": "2023-08-25T02:01:50.791432700Z",
     "start_time": "2023-08-25T02:01:49.790108800Z"
    }
   },
   "outputs": [
    {
     "data": {
      "text/plain": "16.86"
     },
     "execution_count": 181,
     "metadata": {},
     "output_type": "execute_result"
    }
   ],
   "source": [
    "sum(float(d['cty']) for d in mpg) / len(mpg)"
   ]
  },
  {
   "cell_type": "markdown",
   "metadata": {},
   "source": [
    "Similarly this is how to find the average hwy fuel economy across all cars."
   ]
  },
  {
   "cell_type": "code",
   "execution_count": 182,
   "metadata": {
    "ExecuteTime": {
     "end_time": "2023-08-25T02:01:50.791432700Z",
     "start_time": "2023-08-25T02:01:49.807126Z"
    }
   },
   "outputs": [
    {
     "data": {
      "text/plain": "23.44"
     },
     "execution_count": 182,
     "metadata": {},
     "output_type": "execute_result"
    }
   ],
   "source": [
    "sum(float(d['hwy']) for d in mpg) / len(mpg)"
   ]
  },
  {
   "cell_type": "markdown",
   "metadata": {},
   "source": [
    "Use `set` to return the unique values for the number of cylinders the cars in our dataset have."
   ]
  },
  {
   "cell_type": "code",
   "execution_count": 183,
   "metadata": {
    "ExecuteTime": {
     "end_time": "2023-08-25T02:01:50.791432700Z",
     "start_time": "2023-08-25T02:01:49.822350300Z"
    }
   },
   "outputs": [
    {
     "data": {
      "text/plain": "{'4', '5', '6', '8'}"
     },
     "execution_count": 183,
     "metadata": {},
     "output_type": "execute_result"
    }
   ],
   "source": [
    "cylinders = set(d['cyl'] for d in mpg)\n",
    "cylinders"
   ]
  },
  {
   "cell_type": "markdown",
   "metadata": {},
   "source": [
    "Here's a more complex example where we are grouping the cars by number of cylinder, and finding the average cty mpg for each group."
   ]
  },
  {
   "cell_type": "code",
   "execution_count": 184,
   "metadata": {
    "ExecuteTime": {
     "end_time": "2023-08-25T02:01:50.791432700Z",
     "start_time": "2023-08-25T02:01:49.840462100Z"
    }
   },
   "outputs": [
    {
     "data": {
      "text/plain": "[('4', 21.01), ('5', 20.50), ('6', 16.22), ('8', 12.57)]"
     },
     "execution_count": 184,
     "metadata": {},
     "output_type": "execute_result"
    }
   ],
   "source": [
    "CtyMpgByCyl = []\n",
    "\n",
    "for c in cylinders:  # iterate over all the cylinder levels\n",
    "    summpg = 0\n",
    "    cyltypecount = 0\n",
    "    for d in mpg:  # iterate over all dictionaries\n",
    "        if d['cyl'] == c:  # if the cylinder level type matches,\n",
    "            summpg += float(d['cty'])  # add the cty mpg\n",
    "            cyltypecount += 1  # increment the count\n",
    "    CtyMpgByCyl.append((c, summpg / cyltypecount))  # append the tuple ('cylinder', 'avg mpg')\n",
    "\n",
    "CtyMpgByCyl.sort(key=lambda x: x[0])\n",
    "CtyMpgByCyl"
   ]
  },
  {
   "cell_type": "markdown",
   "metadata": {},
   "source": [
    "Use `set` to return the unique values for the class types in our dataset."
   ]
  },
  {
   "cell_type": "code",
   "execution_count": 185,
   "metadata": {
    "ExecuteTime": {
     "end_time": "2023-08-25T02:01:50.791432700Z",
     "start_time": "2023-08-25T02:01:49.853978Z"
    }
   },
   "outputs": [
    {
     "data": {
      "text/plain": "{'2seater', 'compact', 'midsize', 'minivan', 'pickup', 'subcompact', 'suv'}"
     },
     "execution_count": 185,
     "metadata": {},
     "output_type": "execute_result"
    }
   ],
   "source": [
    "vehicleclass = set(d['class'] for d in mpg)  # what are the class types\n",
    "vehicleclass"
   ]
  },
  {
   "cell_type": "markdown",
   "metadata": {},
   "source": [
    "And here's an example of how to find the average hwy mpg for each class of vehicle in our dataset."
   ]
  },
  {
   "cell_type": "code",
   "execution_count": 186,
   "metadata": {
    "ExecuteTime": {
     "end_time": "2023-08-25T02:01:50.791432700Z",
     "start_time": "2023-08-25T02:01:49.871001100Z"
    }
   },
   "outputs": [
    {
     "data": {
      "text/plain": "[('pickup', 16.88),\n ('suv', 18.13),\n ('minivan', 22.36),\n ('2seater', 24.80),\n ('midsize', 27.29),\n ('subcompact', 28.14),\n ('compact', 28.30)]"
     },
     "execution_count": 186,
     "metadata": {},
     "output_type": "execute_result"
    }
   ],
   "source": [
    "HwyMpgByClass = []\n",
    "\n",
    "for t in vehicleclass:  # iterate over all the vehicle classes\n",
    "    summpg = 0\n",
    "    vclasscount = 0\n",
    "    for d in mpg:  # iterate over all dictionaries\n",
    "        if d['class'] == t:  # if the cylinder amount type matches,\n",
    "            summpg += float(d['hwy'])  # add the hwy mpg\n",
    "            vclasscount += 1  # increment the count\n",
    "    HwyMpgByClass.append((t, summpg / vclasscount))  # append the tuple ('class', 'avg mpg')\n",
    "\n",
    "HwyMpgByClass.sort(key=lambda x: x[1])\n",
    "HwyMpgByClass"
   ]
  },
  {
   "cell_type": "markdown",
   "metadata": {},
   "source": [
    "# The Python Programming Language: Dates and Times"
   ]
  },
  {
   "cell_type": "code",
   "execution_count": 187,
   "metadata": {
    "ExecuteTime": {
     "end_time": "2023-08-25T02:01:50.791432700Z",
     "start_time": "2023-08-25T02:01:49.886024200Z"
    }
   },
   "outputs": [],
   "source": [
    "import datetime as dt\n",
    "import time as tm"
   ]
  },
  {
   "cell_type": "markdown",
   "metadata": {},
   "source": [
    "`time` returns the current time in seconds since the Epoch. (January 1st, 1970)"
   ]
  },
  {
   "cell_type": "code",
   "execution_count": 188,
   "metadata": {
    "ExecuteTime": {
     "end_time": "2023-08-25T02:01:50.791432700Z",
     "start_time": "2023-08-25T02:01:49.902916300Z"
    }
   },
   "outputs": [
    {
     "data": {
      "text/plain": "1692928909.90"
     },
     "execution_count": 188,
     "metadata": {},
     "output_type": "execute_result"
    }
   ],
   "source": [
    "tm.time()"
   ]
  },
  {
   "cell_type": "markdown",
   "metadata": {},
   "source": [
    "Convert the timestamp to datetime."
   ]
  },
  {
   "cell_type": "code",
   "execution_count": 189,
   "metadata": {
    "ExecuteTime": {
     "end_time": "2023-08-25T02:01:50.792436900Z",
     "start_time": "2023-08-25T02:01:49.917897600Z"
    }
   },
   "outputs": [
    {
     "data": {
      "text/plain": "datetime.datetime(2023, 8, 24, 21, 1, 49, 918902)"
     },
     "execution_count": 189,
     "metadata": {},
     "output_type": "execute_result"
    }
   ],
   "source": [
    "dtnow = dt.datetime.fromtimestamp(tm.time())\n",
    "dtnow"
   ]
  },
  {
   "cell_type": "markdown",
   "metadata": {},
   "source": [
    "Handy datetime attributes:"
   ]
  },
  {
   "cell_type": "code",
   "execution_count": 190,
   "metadata": {
    "ExecuteTime": {
     "end_time": "2023-08-25T02:01:50.792436900Z",
     "start_time": "2023-08-25T02:01:49.932535100Z"
    }
   },
   "outputs": [
    {
     "data": {
      "text/plain": "(2023, 8, 24, 21, 1, 49)"
     },
     "execution_count": 190,
     "metadata": {},
     "output_type": "execute_result"
    }
   ],
   "source": [
    "dtnow.year, dtnow.month, dtnow.day, dtnow.hour, dtnow.minute, dtnow.second  # get year, month, day, etc.from a datetime"
   ]
  },
  {
   "cell_type": "markdown",
   "metadata": {},
   "source": [
    "`timedelta` is a duration expressing the difference between two dates."
   ]
  },
  {
   "cell_type": "code",
   "execution_count": 191,
   "metadata": {
    "ExecuteTime": {
     "end_time": "2023-08-25T02:01:50.792436900Z",
     "start_time": "2023-08-25T02:01:49.948584400Z"
    }
   },
   "outputs": [
    {
     "data": {
      "text/plain": "datetime.timedelta(days=100)"
     },
     "execution_count": 191,
     "metadata": {},
     "output_type": "execute_result"
    }
   ],
   "source": [
    "delta = dt.timedelta(days=100)  # create a timedelta of 100 days\n",
    "delta"
   ]
  },
  {
   "cell_type": "markdown",
   "metadata": {},
   "source": [
    "`date.today` returns the current local date."
   ]
  },
  {
   "cell_type": "code",
   "execution_count": 192,
   "metadata": {
    "ExecuteTime": {
     "end_time": "2023-08-25T02:01:50.792436900Z",
     "start_time": "2023-08-25T02:01:49.962631200Z"
    }
   },
   "outputs": [],
   "source": [
    "today = dt.date.today()"
   ]
  },
  {
   "cell_type": "code",
   "execution_count": 193,
   "metadata": {
    "ExecuteTime": {
     "end_time": "2023-08-25T02:01:50.792436900Z",
     "start_time": "2023-08-25T02:01:49.981935900Z"
    }
   },
   "outputs": [
    {
     "data": {
      "text/plain": "datetime.date(2023, 5, 16)"
     },
     "execution_count": 193,
     "metadata": {},
     "output_type": "execute_result"
    }
   ],
   "source": [
    "today - delta  # the date 100 days ago"
   ]
  },
  {
   "cell_type": "code",
   "execution_count": 194,
   "metadata": {
    "ExecuteTime": {
     "end_time": "2023-08-25T02:01:50.792436900Z",
     "start_time": "2023-08-25T02:01:49.997821600Z"
    }
   },
   "outputs": [
    {
     "data": {
      "text/plain": "True"
     },
     "execution_count": 194,
     "metadata": {},
     "output_type": "execute_result"
    }
   ],
   "source": [
    "today > today - delta  # compare dates"
   ]
  },
  {
   "cell_type": "markdown",
   "metadata": {},
   "source": [
    "# The Python Programming Language: Objects and map()"
   ]
  },
  {
   "cell_type": "markdown",
   "metadata": {},
   "source": [
    "An example of a class in python:"
   ]
  },
  {
   "cell_type": "code",
   "execution_count": 204,
   "metadata": {
    "ExecuteTime": {
     "end_time": "2023-08-25T02:29:03.549636300Z",
     "start_time": "2023-08-25T02:29:03.528578Z"
    }
   },
   "outputs": [],
   "source": [
    "class Person:\n",
    "    department = 'School of Information'  #a class variable\n",
    "\n",
    "    def set_name(self, new_name):  #a method\n",
    "        self.name = new_name\n",
    "\n",
    "    def set_location(self, new_location):\n",
    "        self.location = new_location"
   ]
  },
  {
   "cell_type": "code",
   "execution_count": 196,
   "metadata": {
    "ExecuteTime": {
     "end_time": "2023-08-25T02:01:50.793530500Z",
     "start_time": "2023-08-25T02:01:50.027587200Z"
    }
   },
   "outputs": [
    {
     "name": "stdout",
     "output_type": "stream",
     "text": [
      "Christopher Brooks live in Ann Arbor, MI, USA and works in the department School of Information\n"
     ]
    }
   ],
   "source": [
    "person = Person()\n",
    "person.set_name('Christopher Brooks')\n",
    "person.set_location('Ann Arbor, MI, USA')\n",
    "print('{} live in {} and works in the department {}'.format(person.name, person.location, person.department))"
   ]
  },
  {
   "cell_type": "markdown",
   "metadata": {},
   "source": [
    "Here's an example of mapping the `min` function between two lists."
   ]
  },
  {
   "cell_type": "code",
   "execution_count": 197,
   "metadata": {
    "ExecuteTime": {
     "end_time": "2023-08-25T02:01:50.793530500Z",
     "start_time": "2023-08-25T02:01:50.043746Z"
    }
   },
   "outputs": [
    {
     "data": {
      "text/plain": "<map at 0x27036696370>"
     },
     "execution_count": 197,
     "metadata": {},
     "output_type": "execute_result"
    }
   ],
   "source": [
    "store1 = [10.00, 11.00, 12.34, 2.34]\n",
    "store2 = [9.00, 11.10, 12.34, 2.01]\n",
    "cheapest = map(min, store1, store2)\n",
    "cheapest"
   ]
  },
  {
   "cell_type": "markdown",
   "metadata": {},
   "source": [
    "Now let's iterate through the map object to see the values."
   ]
  },
  {
   "cell_type": "code",
   "execution_count": 198,
   "metadata": {
    "scrolled": true,
    "ExecuteTime": {
     "end_time": "2023-08-25T02:01:50.793530500Z",
     "start_time": "2023-08-25T02:01:50.055537400Z"
    }
   },
   "outputs": [
    {
     "name": "stdout",
     "output_type": "stream",
     "text": [
      "9.0\n",
      "11.0\n",
      "12.34\n",
      "2.01\n"
     ]
    }
   ],
   "source": [
    "for item in cheapest:\n",
    "    print(item)"
   ]
  },
  {
   "cell_type": "markdown",
   "metadata": {},
   "source": [
    "# The Python Programming Language: Lambda and List Comprehensions"
   ]
  },
  {
   "cell_type": "markdown",
   "metadata": {},
   "source": [
    "Here's an example of lambda that takes in three parameters and adds the first two."
   ]
  },
  {
   "cell_type": "code",
   "execution_count": 199,
   "metadata": {
    "ExecuteTime": {
     "end_time": "2023-08-25T02:01:50.793530500Z",
     "start_time": "2023-08-25T02:01:50.071595500Z"
    }
   },
   "outputs": [],
   "source": [
    "my_function = lambda a, b, c: a + b"
   ]
  },
  {
   "cell_type": "code",
   "execution_count": 200,
   "metadata": {
    "ExecuteTime": {
     "end_time": "2023-08-25T02:01:50.793530500Z",
     "start_time": "2023-08-25T02:01:50.088036200Z"
    }
   },
   "outputs": [
    {
     "data": {
      "text/plain": "3"
     },
     "execution_count": 200,
     "metadata": {},
     "output_type": "execute_result"
    }
   ],
   "source": [
    "my_function(1, 2, 3)"
   ]
  },
  {
   "cell_type": "markdown",
   "metadata": {},
   "source": [
    "Let's iterate from 0 to 999 and return the even numbers."
   ]
  },
  {
   "cell_type": "code",
   "execution_count": 201,
   "metadata": {
    "ExecuteTime": {
     "end_time": "2023-08-25T02:01:50.793530500Z",
     "start_time": "2023-08-25T02:01:50.103833600Z"
    }
   },
   "outputs": [
    {
     "data": {
      "text/plain": "[0,\n 2,\n 4,\n 6,\n 8,\n 10,\n 12,\n 14,\n 16,\n 18,\n 20,\n 22,\n 24,\n 26,\n 28,\n 30,\n 32,\n 34,\n 36,\n 38,\n 40,\n 42,\n 44,\n 46,\n 48,\n 50,\n 52,\n 54,\n 56,\n 58,\n 60,\n 62,\n 64,\n 66,\n 68,\n 70,\n 72,\n 74,\n 76,\n 78,\n 80,\n 82,\n 84,\n 86,\n 88,\n 90,\n 92,\n 94,\n 96,\n 98,\n 100,\n 102,\n 104,\n 106,\n 108,\n 110,\n 112,\n 114,\n 116,\n 118,\n 120,\n 122,\n 124,\n 126,\n 128,\n 130,\n 132,\n 134,\n 136,\n 138,\n 140,\n 142,\n 144,\n 146,\n 148,\n 150,\n 152,\n 154,\n 156,\n 158,\n 160,\n 162,\n 164,\n 166,\n 168,\n 170,\n 172,\n 174,\n 176,\n 178,\n 180,\n 182,\n 184,\n 186,\n 188,\n 190,\n 192,\n 194,\n 196,\n 198,\n 200,\n 202,\n 204,\n 206,\n 208,\n 210,\n 212,\n 214,\n 216,\n 218,\n 220,\n 222,\n 224,\n 226,\n 228,\n 230,\n 232,\n 234,\n 236,\n 238,\n 240,\n 242,\n 244,\n 246,\n 248,\n 250,\n 252,\n 254,\n 256,\n 258,\n 260,\n 262,\n 264,\n 266,\n 268,\n 270,\n 272,\n 274,\n 276,\n 278,\n 280,\n 282,\n 284,\n 286,\n 288,\n 290,\n 292,\n 294,\n 296,\n 298,\n 300,\n 302,\n 304,\n 306,\n 308,\n 310,\n 312,\n 314,\n 316,\n 318,\n 320,\n 322,\n 324,\n 326,\n 328,\n 330,\n 332,\n 334,\n 336,\n 338,\n 340,\n 342,\n 344,\n 346,\n 348,\n 350,\n 352,\n 354,\n 356,\n 358,\n 360,\n 362,\n 364,\n 366,\n 368,\n 370,\n 372,\n 374,\n 376,\n 378,\n 380,\n 382,\n 384,\n 386,\n 388,\n 390,\n 392,\n 394,\n 396,\n 398,\n 400,\n 402,\n 404,\n 406,\n 408,\n 410,\n 412,\n 414,\n 416,\n 418,\n 420,\n 422,\n 424,\n 426,\n 428,\n 430,\n 432,\n 434,\n 436,\n 438,\n 440,\n 442,\n 444,\n 446,\n 448,\n 450,\n 452,\n 454,\n 456,\n 458,\n 460,\n 462,\n 464,\n 466,\n 468,\n 470,\n 472,\n 474,\n 476,\n 478,\n 480,\n 482,\n 484,\n 486,\n 488,\n 490,\n 492,\n 494,\n 496,\n 498,\n 500,\n 502,\n 504,\n 506,\n 508,\n 510,\n 512,\n 514,\n 516,\n 518,\n 520,\n 522,\n 524,\n 526,\n 528,\n 530,\n 532,\n 534,\n 536,\n 538,\n 540,\n 542,\n 544,\n 546,\n 548,\n 550,\n 552,\n 554,\n 556,\n 558,\n 560,\n 562,\n 564,\n 566,\n 568,\n 570,\n 572,\n 574,\n 576,\n 578,\n 580,\n 582,\n 584,\n 586,\n 588,\n 590,\n 592,\n 594,\n 596,\n 598,\n 600,\n 602,\n 604,\n 606,\n 608,\n 610,\n 612,\n 614,\n 616,\n 618,\n 620,\n 622,\n 624,\n 626,\n 628,\n 630,\n 632,\n 634,\n 636,\n 638,\n 640,\n 642,\n 644,\n 646,\n 648,\n 650,\n 652,\n 654,\n 656,\n 658,\n 660,\n 662,\n 664,\n 666,\n 668,\n 670,\n 672,\n 674,\n 676,\n 678,\n 680,\n 682,\n 684,\n 686,\n 688,\n 690,\n 692,\n 694,\n 696,\n 698,\n 700,\n 702,\n 704,\n 706,\n 708,\n 710,\n 712,\n 714,\n 716,\n 718,\n 720,\n 722,\n 724,\n 726,\n 728,\n 730,\n 732,\n 734,\n 736,\n 738,\n 740,\n 742,\n 744,\n 746,\n 748,\n 750,\n 752,\n 754,\n 756,\n 758,\n 760,\n 762,\n 764,\n 766,\n 768,\n 770,\n 772,\n 774,\n 776,\n 778,\n 780,\n 782,\n 784,\n 786,\n 788,\n 790,\n 792,\n 794,\n 796,\n 798,\n 800,\n 802,\n 804,\n 806,\n 808,\n 810,\n 812,\n 814,\n 816,\n 818,\n 820,\n 822,\n 824,\n 826,\n 828,\n 830,\n 832,\n 834,\n 836,\n 838,\n 840,\n 842,\n 844,\n 846,\n 848,\n 850,\n 852,\n 854,\n 856,\n 858,\n 860,\n 862,\n 864,\n 866,\n 868,\n 870,\n 872,\n 874,\n 876,\n 878,\n 880,\n 882,\n 884,\n 886,\n 888,\n 890,\n 892,\n 894,\n 896,\n 898,\n 900,\n 902,\n 904,\n 906,\n 908,\n 910,\n 912,\n 914,\n 916,\n 918,\n 920,\n 922,\n 924,\n 926,\n 928,\n 930,\n 932,\n 934,\n 936,\n 938,\n 940,\n 942,\n 944,\n 946,\n 948,\n 950,\n 952,\n 954,\n 956,\n 958,\n 960,\n 962,\n 964,\n 966,\n 968,\n 970,\n 972,\n 974,\n 976,\n 978,\n 980,\n 982,\n 984,\n 986,\n 988,\n 990,\n 992,\n 994,\n 996,\n 998]"
     },
     "execution_count": 201,
     "metadata": {},
     "output_type": "execute_result"
    }
   ],
   "source": [
    "my_list = []\n",
    "for number in range(0, 1000):\n",
    "    if number % 2 == 0:\n",
    "        my_list.append(number)\n",
    "my_list"
   ]
  },
  {
   "cell_type": "markdown",
   "metadata": {},
   "source": [
    "Now the same thing but with list comprehension."
   ]
  },
  {
   "cell_type": "code",
   "execution_count": 202,
   "metadata": {
    "ExecuteTime": {
     "end_time": "2023-08-25T02:01:50.793530500Z",
     "start_time": "2023-08-25T02:01:50.127602800Z"
    }
   },
   "outputs": [
    {
     "data": {
      "text/plain": "[0,\n 2,\n 4,\n 6,\n 8,\n 10,\n 12,\n 14,\n 16,\n 18,\n 20,\n 22,\n 24,\n 26,\n 28,\n 30,\n 32,\n 34,\n 36,\n 38,\n 40,\n 42,\n 44,\n 46,\n 48,\n 50,\n 52,\n 54,\n 56,\n 58,\n 60,\n 62,\n 64,\n 66,\n 68,\n 70,\n 72,\n 74,\n 76,\n 78,\n 80,\n 82,\n 84,\n 86,\n 88,\n 90,\n 92,\n 94,\n 96,\n 98,\n 100,\n 102,\n 104,\n 106,\n 108,\n 110,\n 112,\n 114,\n 116,\n 118,\n 120,\n 122,\n 124,\n 126,\n 128,\n 130,\n 132,\n 134,\n 136,\n 138,\n 140,\n 142,\n 144,\n 146,\n 148,\n 150,\n 152,\n 154,\n 156,\n 158,\n 160,\n 162,\n 164,\n 166,\n 168,\n 170,\n 172,\n 174,\n 176,\n 178,\n 180,\n 182,\n 184,\n 186,\n 188,\n 190,\n 192,\n 194,\n 196,\n 198,\n 200,\n 202,\n 204,\n 206,\n 208,\n 210,\n 212,\n 214,\n 216,\n 218,\n 220,\n 222,\n 224,\n 226,\n 228,\n 230,\n 232,\n 234,\n 236,\n 238,\n 240,\n 242,\n 244,\n 246,\n 248,\n 250,\n 252,\n 254,\n 256,\n 258,\n 260,\n 262,\n 264,\n 266,\n 268,\n 270,\n 272,\n 274,\n 276,\n 278,\n 280,\n 282,\n 284,\n 286,\n 288,\n 290,\n 292,\n 294,\n 296,\n 298,\n 300,\n 302,\n 304,\n 306,\n 308,\n 310,\n 312,\n 314,\n 316,\n 318,\n 320,\n 322,\n 324,\n 326,\n 328,\n 330,\n 332,\n 334,\n 336,\n 338,\n 340,\n 342,\n 344,\n 346,\n 348,\n 350,\n 352,\n 354,\n 356,\n 358,\n 360,\n 362,\n 364,\n 366,\n 368,\n 370,\n 372,\n 374,\n 376,\n 378,\n 380,\n 382,\n 384,\n 386,\n 388,\n 390,\n 392,\n 394,\n 396,\n 398,\n 400,\n 402,\n 404,\n 406,\n 408,\n 410,\n 412,\n 414,\n 416,\n 418,\n 420,\n 422,\n 424,\n 426,\n 428,\n 430,\n 432,\n 434,\n 436,\n 438,\n 440,\n 442,\n 444,\n 446,\n 448,\n 450,\n 452,\n 454,\n 456,\n 458,\n 460,\n 462,\n 464,\n 466,\n 468,\n 470,\n 472,\n 474,\n 476,\n 478,\n 480,\n 482,\n 484,\n 486,\n 488,\n 490,\n 492,\n 494,\n 496,\n 498,\n 500,\n 502,\n 504,\n 506,\n 508,\n 510,\n 512,\n 514,\n 516,\n 518,\n 520,\n 522,\n 524,\n 526,\n 528,\n 530,\n 532,\n 534,\n 536,\n 538,\n 540,\n 542,\n 544,\n 546,\n 548,\n 550,\n 552,\n 554,\n 556,\n 558,\n 560,\n 562,\n 564,\n 566,\n 568,\n 570,\n 572,\n 574,\n 576,\n 578,\n 580,\n 582,\n 584,\n 586,\n 588,\n 590,\n 592,\n 594,\n 596,\n 598,\n 600,\n 602,\n 604,\n 606,\n 608,\n 610,\n 612,\n 614,\n 616,\n 618,\n 620,\n 622,\n 624,\n 626,\n 628,\n 630,\n 632,\n 634,\n 636,\n 638,\n 640,\n 642,\n 644,\n 646,\n 648,\n 650,\n 652,\n 654,\n 656,\n 658,\n 660,\n 662,\n 664,\n 666,\n 668,\n 670,\n 672,\n 674,\n 676,\n 678,\n 680,\n 682,\n 684,\n 686,\n 688,\n 690,\n 692,\n 694,\n 696,\n 698,\n 700,\n 702,\n 704,\n 706,\n 708,\n 710,\n 712,\n 714,\n 716,\n 718,\n 720,\n 722,\n 724,\n 726,\n 728,\n 730,\n 732,\n 734,\n 736,\n 738,\n 740,\n 742,\n 744,\n 746,\n 748,\n 750,\n 752,\n 754,\n 756,\n 758,\n 760,\n 762,\n 764,\n 766,\n 768,\n 770,\n 772,\n 774,\n 776,\n 778,\n 780,\n 782,\n 784,\n 786,\n 788,\n 790,\n 792,\n 794,\n 796,\n 798,\n 800,\n 802,\n 804,\n 806,\n 808,\n 810,\n 812,\n 814,\n 816,\n 818,\n 820,\n 822,\n 824,\n 826,\n 828,\n 830,\n 832,\n 834,\n 836,\n 838,\n 840,\n 842,\n 844,\n 846,\n 848,\n 850,\n 852,\n 854,\n 856,\n 858,\n 860,\n 862,\n 864,\n 866,\n 868,\n 870,\n 872,\n 874,\n 876,\n 878,\n 880,\n 882,\n 884,\n 886,\n 888,\n 890,\n 892,\n 894,\n 896,\n 898,\n 900,\n 902,\n 904,\n 906,\n 908,\n 910,\n 912,\n 914,\n 916,\n 918,\n 920,\n 922,\n 924,\n 926,\n 928,\n 930,\n 932,\n 934,\n 936,\n 938,\n 940,\n 942,\n 944,\n 946,\n 948,\n 950,\n 952,\n 954,\n 956,\n 958,\n 960,\n 962,\n 964,\n 966,\n 968,\n 970,\n 972,\n 974,\n 976,\n 978,\n 980,\n 982,\n 984,\n 986,\n 988,\n 990,\n 992,\n 994,\n 996,\n 998]"
     },
     "execution_count": 202,
     "metadata": {},
     "output_type": "execute_result"
    }
   ],
   "source": [
    "my_list = [number for number in range(0, 1000) if number % 2 == 0]\n",
    "my_list"
   ]
  },
  {
   "cell_type": "code",
   "execution_count": 10,
   "outputs": [
    {
     "name": "stdout",
     "output_type": "stream",
     "text": [
      "['aa00', 'aa01', 'aa02', 'aa03', 'aa04', 'aa05', 'aa06', 'aa07', 'aa08', 'aa09', 'aa10', 'aa11', 'aa12', 'aa13', 'aa14', 'aa15', 'aa16', 'aa17', 'aa18', 'aa19', 'aa20', 'aa21', 'aa22', 'aa23', 'aa24', 'aa25', 'aa26', 'aa27', 'aa28', 'aa29', 'aa30', 'aa31', 'aa32', 'aa33', 'aa34', 'aa35', 'aa36', 'aa37', 'aa38', 'aa39', 'aa40', 'aa41', 'aa42', 'aa43', 'aa44', 'aa45', 'aa46', 'aa47', 'aa48', 'aa49']\n"
     ]
    }
   ],
   "source": [
    "lowercase = 'abcdefghijklmnopqrstuvwxyz'\n",
    "digits = '0123456789'\n",
    "\n",
    "answer = [a + b + c + d for a in lowercase for b in lowercase for c in digits for d in digits]\n",
    "print(answer[:50])\n"
   ],
   "metadata": {
    "collapsed": false,
    "ExecuteTime": {
     "end_time": "2023-08-28T19:20:09.693515900Z",
     "start_time": "2023-08-28T19:20:09.582647600Z"
    }
   }
  },
  {
   "cell_type": "code",
   "execution_count": null,
   "outputs": [],
   "source": [],
   "metadata": {
    "collapsed": false
   }
  }
 ],
 "metadata": {
  "kernelspec": {
   "display_name": "Python 3 (ipykernel)",
   "language": "python",
   "name": "python3"
  },
  "language_info": {
   "codemirror_mode": {
    "name": "ipython",
    "version": 3
   },
   "file_extension": ".py",
   "mimetype": "text/x-python",
   "name": "python",
   "nbconvert_exporter": "python",
   "pygments_lexer": "ipython3",
   "version": "3.9.13"
  }
 },
 "nbformat": 4,
 "nbformat_minor": 4
}
